{
  "metadata": {
    "language_info": {
      "codemirror_mode": {
        "name": "python",
        "version": 3
      },
      "file_extension": ".py",
      "mimetype": "text/x-python",
      "name": "python",
      "nbconvert_exporter": "python",
      "pygments_lexer": "ipython3",
      "version": "3.8"
    },
    "kernelspec": {
      "name": "python",
      "display_name": "Pyolite",
      "language": "python"
    }
  },
  "nbformat_minor": 4,
  "nbformat": 4,
  "cells": [
    {
      "cell_type": "code",
      "source": "# Symmetric Binary Tree -- by reccursion\n\ndef are_symmetric(root1, root2):\n    if root1 is None and root2 is None:\n        return True\n    elif ((root1 is None) != (root2 is None)) or root1.val != root2.val:\n        return False\n    else:\n        return are_symmetric(root1.left, root2.right) and are_symmetric(root1.right, root2.left)\n\ndef is_symmetric(root):\n    if root is None:\n        return True\n    return are_symmetric(root.left, root.right)\n\n    ",
      "metadata": {},
      "execution_count": null,
      "outputs": []
    }
  ]
}