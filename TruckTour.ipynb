{
  "metadata": {
    "language_info": {
      "codemirror_mode": {
        "name": "python",
        "version": 3
      },
      "file_extension": ".py",
      "mimetype": "text/x-python",
      "name": "python",
      "nbconvert_exporter": "python",
      "pygments_lexer": "ipython3",
      "version": "3.8"
    },
    "kernelspec": {
      "name": "python",
      "display_name": "Pyolite",
      "language": "python"
    }
  },
  "nbformat_minor": 4,
  "nbformat": 4,
  "cells": [
    {
      "cell_type": "code",
      "source": "def ROTATE (lists, n): \n    output_list = [] \n    x= len(lists)\n    for item in range(x - n, x): \n        output_list.append(lists[item])        \n    for item in range(0, x - n):  \n        output_list.append(lists[item]) \n    return output_list ",
      "metadata": {
        "trusted": true
      },
      "execution_count": 12,
      "outputs": []
    },
    {
      "cell_type": "code",
      "source": "#attempt 1 but IMCOMPLETE (too messy)\n\ndef truckTour(petrolpumps):\n    # Write your code here\n    #start at greatest petrol pump? no\n    # run from each pump and check for a succesful circle\n    # rotate petrolpumps to always start at the beggining\n    \n    N = len(petrolpumps)\n    petrol = 0\n    start = 0\n    rotations = 0\n\n    for i in range(N):\n        dist = 0\n        petrol += petrolpumps[0][i]\n        dist = petrolpumps[i][0]\n\n        if petrol < dist:\n            petrol = 0\n            start = i\n\n            petrolpumps = ROTATE(petrolpumps, rotations) #rotates\n            rotations += 1\n            i = 0\n            break #leave this for()\n\n        elif i == N-1: #check for full cicle: for is completed without breaking\n\n            return rotations",
      "metadata": {
        "trusted": true
      },
      "execution_count": 14,
      "outputs": []
    },
    {
      "cell_type": "code",
      "source": "p = [[1, 5], [10, 3], [3, 4]]\n\ngas = []\ncost= []\n\nfor i in range(len(p)):\n    \n    gas.append(p[i][0])\n    cost.append(p[i][1])\ngas",
      "metadata": {
        "trusted": true
      },
      "execution_count": 30,
      "outputs": [
        {
          "execution_count": 30,
          "output_type": "execute_result",
          "data": {
            "text/plain": "[1, 10, 3]"
          },
          "metadata": {}
        }
      ]
    },
    {
      "cell_type": "code",
      "source": "# working ------\n\ndef can_traverse(gas, cost, start):\n    \n    n = len(gas)\n    remaining = 0\n    i = start\n    started = False\n    \n    while i != start or not started:\n        started = True\n        remaining += gas[i] - cost[i]\n        if remaining < 0:\n            return False\n        \n        i = (i+1)%n # MAKING LOOPS AROUND LISTS IN A CIRCLE\n        \n    return True\n\n\ndef truckTour(petrolpumps):\n    \n\n    gas = []\n    cost= []\n\n    for i in range(len(p)):\n\n        gas.append(p[i][0])\n        cost.append(p[i][1])\n        \n    for i in range(len(gas)):\n        if can_traverse(gas, cost, i):\n            return i\n        \n    return -1",
      "metadata": {
        "trusted": true
      },
      "execution_count": 31,
      "outputs": []
    },
    {
      "cell_type": "code",
      "source": "p = [[1, 5], [10, 3], [3, 4]]\ntruckTour(p)",
      "metadata": {
        "trusted": true
      },
      "execution_count": 33,
      "outputs": [
        {
          "execution_count": 33,
          "output_type": "execute_result",
          "data": {
            "text/plain": "1"
          },
          "metadata": {}
        }
      ]
    },
    {
      "cell_type": "code",
      "source": "",
      "metadata": {},
      "execution_count": null,
      "outputs": []
    }
  ]
}