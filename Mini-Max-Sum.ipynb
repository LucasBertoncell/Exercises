{
  "metadata": {
    "language_info": {
      "codemirror_mode": {
        "name": "python",
        "version": 3
      },
      "file_extension": ".py",
      "mimetype": "text/x-python",
      "name": "python",
      "nbconvert_exporter": "python",
      "pygments_lexer": "ipython3",
      "version": "3.8"
    },
    "kernelspec": {
      "name": "python",
      "display_name": "Pyolite",
      "language": "python"
    }
  },
  "nbformat_minor": 4,
  "nbformat": 4,
  "cells": [
    {
      "cell_type": "code",
      "source": "#!/bin/python3\n\nimport math\nimport os\nimport random\nimport re\nimport sys\n\n#\n# Complete the 'miniMaxSum' function below.\n#\n# The function accepts INTEGER_ARRAY arr as parameter.\n#\n\ndef miniMaxSum(arr):\n    sorted_arr = sorted(arr)\n    maxSum = sorted_arr[1]+sorted_arr[2]+sorted_arr[3]+sorted_arr[4]\n    minSum = sorted_arr[0]+sorted_arr[1]+sorted_arr[2]+sorted_arr[3]\n    print(minSum, maxSum)\n",
      "metadata": {
        "trusted": true
      },
      "execution_count": 4,
      "outputs": []
    },
    {
      "cell_type": "code",
      "source": "arr = [1,3,5,7,9]",
      "metadata": {
        "trusted": true
      },
      "execution_count": 5,
      "outputs": []
    },
    {
      "cell_type": "code",
      "source": "miniMaxSum(arr)",
      "metadata": {
        "trusted": true
      },
      "execution_count": 6,
      "outputs": [
        {
          "name": "stdout",
          "text": "16 24\n",
          "output_type": "stream"
        }
      ]
    }
  ]
}