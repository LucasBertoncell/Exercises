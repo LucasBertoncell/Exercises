{
  "metadata": {
    "language_info": {
      "codemirror_mode": {
        "name": "python",
        "version": 3
      },
      "file_extension": ".py",
      "mimetype": "text/x-python",
      "name": "python",
      "nbconvert_exporter": "python",
      "pygments_lexer": "ipython3",
      "version": "3.8"
    },
    "kernelspec": {
      "name": "python",
      "display_name": "Pyolite",
      "language": "python"
    }
  },
  "nbformat_minor": 4,
  "nbformat": 4,
  "cells": [
    {
      "cell_type": "code",
      "source": "S = 'abcd11A'\nprint(any(c.isalnum() for c in S))\nprint   (any(c.isalpha() for c in S))\nprint (any(c.isdigit() for c in S))\nprint (any(c.islower() for c in S))\nprint (any(c.isupper() for c in S))\na = 'a'\nA= 'A'\nA.islower()",
      "metadata": {
        "trusted": true
      },
      "execution_count": 88,
      "outputs": [
        {
          "name": "stdout",
          "text": "True\nTrue\nTrue\nTrue\nTrue\n",
          "output_type": "stream"
        },
        {
          "execution_count": 88,
          "output_type": "execute_result",
          "data": {
            "text/plain": "False"
          },
          "metadata": {}
        }
      ]
    },
    {
      "cell_type": "code",
      "source": "# Example\nstring = \"abracadabra\"\nl = list(string)\nl[5] = 'k'\nstring = ''.join(l)\nprint(string)\nprint(l)\n\n\n",
      "metadata": {
        "trusted": true
      },
      "execution_count": 8,
      "outputs": [
        {
          "name": "stdout",
          "text": "abrackdabra\n['a', 'b', 'r', 'a', 'c', 'k', 'd', 'a', 'b', 'r', 'a']\n",
          "output_type": "stream"
        }
      ]
    },
    {
      "cell_type": "code",
      "source": "# Example\nstring = \"abracadabra\"\nstring = string[:5] + \"k\" + string[6:]",
      "metadata": {},
      "execution_count": null,
      "outputs": []
    },
    {
      "cell_type": "code",
      "source": "# A cipher -- rotating alphabet\n\n\ndef caesarCipher(s, k): #rotate alphabet and change s\n\n    n = len(s)\n    lis = list(s)\n    alphabet = []\n    alphabet_up = []\n    \n    for i in range(97,123):\n      alphabet.append(chr(i))\n    for i in range(65,91):\n      alphabet_up.append(chr(i))\n      \n    #rotating it is just slicing and putting back at the index k\n    actual_rot_num = k%26 #this was a PROBLEM solved\n    rotated = alphabet[actual_rot_num:] + alphabet[:actual_rot_num]\n    rotated_up = alphabet_up[actual_rot_num:] + alphabet_up[:actual_rot_num]\n    \n    for j in range(n):\n      if s[j].isalpha() == True: #not symbols\n        \n        #check lowercase and uppercase:\n        if s[j].islower() == True:\n          num = alphabet.index(s[j]) #find index in the correct alphabet\n          lis[j] = rotated[num]\n        else:\n          num = alphabet_up.index(s[j]) #find index in the correct alphabet\n          lis[j] = rotated_up[num]\n      \n        \n    \n        final = ''.join(lis)\n        \n    return final",
      "metadata": {
        "trusted": true
      },
      "execution_count": 115,
      "outputs": []
    },
    {
      "cell_type": "code",
      "source": "s = \"www.abc.xy\"\nk = 87\ncaesarCipher(s, k)",
      "metadata": {
        "trusted": true
      },
      "execution_count": 116,
      "outputs": [
        {
          "execution_count": 116,
          "output_type": "execute_result",
          "data": {
            "text/plain": "'fff.jkl.gh'"
          },
          "metadata": {}
        }
      ]
    },
    {
      "cell_type": "code",
      "source": "def ROTATE (lists, n): \n    output_list = [] \n    x= len(lists)\n    for item in range(x - n, x): \n        output_list.append(lists[item])        \n    for item in range(0, x - n):  \n        output_list.append(lists[item]) \n    return output_list ",
      "metadata": {
        "trusted": true
      },
      "execution_count": 96,
      "outputs": []
    },
    {
      "cell_type": "code",
      "source": "ROTATE(alphabet,2)",
      "metadata": {
        "trusted": true
      },
      "execution_count": 98,
      "outputs": [
        {
          "execution_count": 98,
          "output_type": "execute_result",
          "data": {
            "text/plain": "['y',\n 'z',\n 'a',\n 'b',\n 'c',\n 'd',\n 'e',\n 'f',\n 'g',\n 'h',\n 'i',\n 'j',\n 'k',\n 'l',\n 'm',\n 'n',\n 'o',\n 'p',\n 'q',\n 'r',\n 's',\n 't',\n 'u',\n 'v',\n 'w',\n 'x']"
          },
          "metadata": {}
        }
      ]
    }
  ]
}