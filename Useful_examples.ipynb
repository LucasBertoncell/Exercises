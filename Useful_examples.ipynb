{
  "metadata": {
    "language_info": {
      "codemirror_mode": {
        "name": "python",
        "version": 3
      },
      "file_extension": ".py",
      "mimetype": "text/x-python",
      "name": "python",
      "nbconvert_exporter": "python",
      "pygments_lexer": "ipython3",
      "version": "3.8"
    },
    "kernelspec": {
      "name": "python",
      "display_name": "Pyolite",
      "language": "python"
    }
  },
  "nbformat_minor": 4,
  "nbformat": 4,
  "cells": [
    {
      "cell_type": "code",
      "source": "# Useful Examples \n\n#-- args and kwargs\n\ndef argument1_and_args(arg1, *argv):\n    print (\"First argument :\", arg1)\n    for arg in argv:\n        print(\"Next argument through *argv :\", arg)\n \nargument1_and_args('Hello, this is the first input', 'this is', 'more arguments', 'can also be numbers', 33)\n\n\nprint('\\n')\n\n\ndef arguments_and_kwargs(arg1, **kwargs):\n    print(arg1)\n    \n    for key, value in kwargs.items():\n        print (\"%s == %s\" %(key, value))\n\narguments_and_kwargs(\"Hi\", first ='1', mid ='2', last='3') ",
      "metadata": {
        "trusted": true
      },
      "execution_count": 19,
      "outputs": [
        {
          "name": "stdout",
          "text": "First argument : Hello, this is the first input\nNext argument through *argv : this is\nNext argument through *argv : more arguments\nNext argument through *argv : can also be numbers\nNext argument through *argv : 33\n\n\nHi\nfirst == 1\nmid == 2\nlast == 3\n",
          "output_type": "stream"
        }
      ]
    },
    {
      "cell_type": "code",
      "source": "#-- Operations \na = 9\na%5",
      "metadata": {
        "trusted": true
      },
      "execution_count": 12,
      "outputs": [
        {
          "execution_count": 12,
          "output_type": "execute_result",
          "data": {
            "text/plain": "4"
          },
          "metadata": {}
        }
      ]
    },
    {
      "cell_type": "code",
      "source": "#-- Strings --------------------------------\n\nmyTuple = (\"John\", \"Peter\", \"Vicky\")\nx = \" and \".join(myTuple)\nprint(x)\n\n\nstr1 = 'O'\nstr2 = 'la!'\nstr1 + str2\n\n",
      "metadata": {
        "trusted": true
      },
      "execution_count": 3,
      "outputs": [
        {
          "name": "stdout",
          "text": "John and Peter and Vicky\n",
          "output_type": "stream"
        },
        {
          "execution_count": 3,
          "output_type": "execute_result",
          "data": {
            "text/plain": "'Ola!'"
          },
          "metadata": {}
        }
      ]
    },
    {
      "cell_type": "code",
      "source": "# Example\n\nstring = \"abracadabra\"\nl = list(string)\nl[5] = 'k'\nstring = ''.join(l)\nprint(string)\nprint(l)\n",
      "metadata": {
        "trusted": true
      },
      "execution_count": 6,
      "outputs": [
        {
          "name": "stdout",
          "text": "abrackdabra\n['a', 'b', 'r', 'a', 'c', 'k', 'd', 'a', 'b', 'r', 'a']\n",
          "output_type": "stream"
        }
      ]
    },
    {
      "cell_type": "code",
      "source": "# Example v2\nstring = \"abracadabra\"\nprint(string[:5])\nprint(string[5:])\nstring = string[:5] + \"k\" + string[6:]",
      "metadata": {
        "trusted": true
      },
      "execution_count": 10,
      "outputs": [
        {
          "name": "stdout",
          "text": "abrac\nadabra\n",
          "output_type": "stream"
        }
      ]
    },
    {
      "cell_type": "code",
      "source": "# Lists\n\n# Consider a list (list = []). You can perform the following commands:\n# insert i e: Insert integer e at position i.\n# print: Print the list.\n# remove e: Delete the first occurrence of integer e.\n# append e: Insert integer e at the end of the list.\n# sort: Sort the list.\n# pop: Pop the last element from the list.\n# reverse: Reverse the list.\n\nx = []\nx.append(1)\nx.append(4)\nx.append(3)\nx.remove(4)\nx.pop(0)\nx.insert(3,10)\n\nx",
      "metadata": {
        "trusted": true
      },
      "execution_count": 25,
      "outputs": [
        {
          "execution_count": 25,
          "output_type": "execute_result",
          "data": {
            "text/plain": "[3, 10]"
          },
          "metadata": {}
        }
      ]
    },
    {
      "cell_type": "code",
      "source": "# ----- map()\n# Return double of n\ndef addition(n):\n    return n + n\n\n# We double all numbers using map()\nnumbers = (1, 2, 3, 4)\nresult = map(addition, numbers)\nresult\n\nprint(list(result))",
      "metadata": {
        "trusted": true
      },
      "execution_count": 5,
      "outputs": [
        {
          "name": "stdout",
          "text": "[2, 4, 6, 8]\n",
          "output_type": "stream"
        }
      ]
    },
    {
      "cell_type": "code",
      "source": "import itertools\n\ndef kth_permutation(n, k):\n    permutations = list(itertools.permutations(range(1, n+1)))\n    return ''.join(map(str, permutations[k-1]))\n",
      "metadata": {
        "trusted": true
      },
      "execution_count": 9,
      "outputs": []
    },
    {
      "cell_type": "code",
      "source": "kth_permutation(3,3)",
      "metadata": {
        "trusted": true
      },
      "execution_count": 7,
      "outputs": [
        {
          "execution_count": 7,
          "output_type": "execute_result",
          "data": {
            "text/plain": "'213'"
          },
          "metadata": {}
        }
      ]
    },
    {
      "cell_type": "code",
      "source": "range(5)",
      "metadata": {
        "trusted": true
      },
      "execution_count": 11,
      "outputs": [
        {
          "execution_count": 11,
          "output_type": "execute_result",
          "data": {
            "text/plain": "range(0, 5)"
          },
          "metadata": {}
        }
      ]
    },
    {
      "cell_type": "code",
      "source": "\nlen(list(itertools.permutations(range(4))))",
      "metadata": {
        "trusted": true
      },
      "execution_count": 16,
      "outputs": [
        {
          "execution_count": 16,
          "output_type": "execute_result",
          "data": {
            "text/plain": "24"
          },
          "metadata": {}
        }
      ]
    },
    {
      "cell_type": "code",
      "source": "",
      "metadata": {},
      "execution_count": null,
      "outputs": []
    }
  ]
}