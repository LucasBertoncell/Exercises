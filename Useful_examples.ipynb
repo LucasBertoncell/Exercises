{
  "metadata": {
    "language_info": {
      "codemirror_mode": {
        "name": "python",
        "version": 3
      },
      "file_extension": ".py",
      "mimetype": "text/x-python",
      "name": "python",
      "nbconvert_exporter": "python",
      "pygments_lexer": "ipython3",
      "version": "3.8"
    },
    "kernelspec": {
      "name": "python",
      "display_name": "Pyolite",
      "language": "python"
    }
  },
  "nbformat_minor": 4,
  "nbformat": 4,
  "cells": [
    {
      "cell_type": "code",
      "source": "# Useful Examples \n\n#-- args and kwargs\n\ndef argument1_and_args(arg1, *argv):\n    print (\"First argument :\", arg1)\n    for arg in argv:\n        print(\"Next argument through *argv :\", arg)\n \nargument1_and_args('Hello, this is the first input', 'this is', 'more arguments', 'can also be numbers', 33)\n\n\nprint('\\n')\n\n\ndef arguments_and_kwargs(arg1, **kwargs):\n    print(arg1)\n    \n    for key, value in kwargs.items():\n        print (\"%s == %s\" %(key, value))\n\narguments_and_kwargs(\"Hi\", first ='1', mid ='2', last='3') ",
      "metadata": {
        "trusted": true
      },
      "execution_count": 19,
      "outputs": [
        {
          "name": "stdout",
          "text": "First argument : Hello, this is the first input\nNext argument through *argv : this is\nNext argument through *argv : more arguments\nNext argument through *argv : can also be numbers\nNext argument through *argv : 33\n\n\nHi\nfirst == 1\nmid == 2\nlast == 3\n",
          "output_type": "stream"
        }
      ]
    },
    {
      "cell_type": "code",
      "source": "#-- Operations \na = 9\na%5",
      "metadata": {
        "trusted": true
      },
      "execution_count": 7,
      "outputs": [
        {
          "execution_count": 7,
          "output_type": "execute_result",
          "data": {
            "text/plain": "4"
          },
          "metadata": {}
        }
      ]
    },
    {
      "cell_type": "code",
      "source": "#-- Strings\n\nmyTuple = (\"John\", \"Peter\", \"Vicky\")\nx = \" and \".join(myTuple)\nprint(x)\n\n\nstr1 = 'O'\nstr2 = 'la!'\nstr1 + str2\n\n",
      "metadata": {
        "trusted": true
      },
      "execution_count": 3,
      "outputs": [
        {
          "name": "stdout",
          "text": "John and Peter and Vicky\n",
          "output_type": "stream"
        },
        {
          "execution_count": 3,
          "output_type": "execute_result",
          "data": {
            "text/plain": "'Ola!'"
          },
          "metadata": {}
        }
      ]
    },
    {
      "cell_type": "code",
      "source": "",
      "metadata": {},
      "execution_count": null,
      "outputs": []
    }
  ]
}