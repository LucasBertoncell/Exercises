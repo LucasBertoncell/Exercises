{
  "metadata": {
    "language_info": {
      "codemirror_mode": {
        "name": "python",
        "version": 3
      },
      "file_extension": ".py",
      "mimetype": "text/x-python",
      "name": "python",
      "nbconvert_exporter": "python",
      "pygments_lexer": "ipython3",
      "version": "3.8"
    },
    "kernelspec": {
      "name": "python",
      "display_name": "Pyolite",
      "language": "python"
    }
  },
  "nbformat_minor": 4,
  "nbformat": 4,
  "cells": [
    {
      "cell_type": "code",
      "source": "# First and Last Index in a Sorted Array\n\ndef first_and_last(arr, target):\n    for i in range(len(arr)):\n        if arr[i] == target:\n            start = i\n            while i+1 < len(arr) and arr[i+1] == target:\n                i += 1\n            return [start, i] #first return\n        \n    return [-1, -1]\n\n# T(n) = O(n)\n# S(n) = O(1) -- constant",
      "metadata": {
        "trusted": true
      },
      "execution_count": 2,
      "outputs": []
    },
    {
      "cell_type": "code",
      "source": "arr_sample = [2,4,5,5,5,6,88]\ntarget_sample = 5",
      "metadata": {
        "trusted": true
      },
      "execution_count": 3,
      "outputs": []
    },
    {
      "cell_type": "code",
      "source": "first_and_last(arr_sample, target_sample)",
      "metadata": {
        "trusted": true
      },
      "execution_count": 4,
      "outputs": [
        {
          "execution_count": 4,
          "output_type": "execute_result",
          "data": {
            "text/plain": "[2, 4]"
          },
          "metadata": {}
        }
      ]
    }
  ]
}