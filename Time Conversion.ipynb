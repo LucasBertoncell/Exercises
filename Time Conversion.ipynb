{
  "metadata": {
    "language_info": {
      "codemirror_mode": {
        "name": "python",
        "version": 3
      },
      "file_extension": ".py",
      "mimetype": "text/x-python",
      "name": "python",
      "nbconvert_exporter": "python",
      "pygments_lexer": "ipython3",
      "version": "3.8"
    },
    "kernelspec": {
      "name": "python",
      "display_name": "Pyolite",
      "language": "python"
    }
  },
  "nbformat_minor": 4,
  "nbformat": 4,
  "cells": [
    {
      "cell_type": "code",
      "source": "#!/bin/python3\n\nimport math\nimport os\nimport random\nimport re\nimport sys\n\n#\n# Complete the 'timeConversion' function below.\n#\n# The function is expected to return a STRING.\n# The function accepts STRING s as parameter.\n'''\nFrom midnight to 12:59 am, subtract 12 hours.\n12:49 am = 0:49 (12:49 – 12)\n\nFrom 1 am to noon, do nothing.\n11:49 am = 11:49\n\nFrom 12:01 pm to 12:59 pm, do nothing.\n12:49 pm = 12:49\n\nFrom 1:00 pm to midnight, add 12 hours.\n1:49 pm = 13:49 (1:49 + 12)\n\n12AM -> 12:59AM -> 01AM -> ... -> 11:59AM ---> 12PM -> 01PM -> ... -> 11:59PM ---> 12AM\n'''\n\ndef timeConversion(s):\n    #obs.: we only need to change hh and AM/PM (hh:mm:ssAM), 01:34:6789 indexes\n    #first check AM: only 12\n    \n    if s[8] == 'A' and s[0] == '1' and s[1] == '2': # 12:mm:ssAM case\n        new = s[:s.rfind('A')]\n        new = new.replace('1', '0', 1)\n        new = new.replace('2', '0', 1)\n        return new\n    \n    elif s[8] == 'A': # do nothing\n        new = s[:s.rfind('A')]\n        return new\n        \n    #string.replace(oldvalue, newvalue, count) is used\n  \n        \n    \n    elif s[8] == 'P' and s[0] == '1' and s[1] == '2': # do nothing\n        new = s[:s.rfind('P')]\n        return new\n    \n    elif s[8] == 'P':\n        new = s[:s.rfind('P')]\n        new = str(int(new[:2]) + 12) + str((new[2:]))\n        return new",
      "metadata": {
        "trusted": true
      },
      "execution_count": 123,
      "outputs": []
    },
    {
      "cell_type": "code",
      "source": "s = '12:05:45AM'\n\ntimeConversion(s)\n",
      "metadata": {
        "trusted": true
      },
      "execution_count": 122,
      "outputs": [
        {
          "execution_count": 122,
          "output_type": "execute_result",
          "data": {
            "text/plain": "'00:05:45'"
          },
          "metadata": {}
        }
      ]
    },
    {
      "cell_type": "code",
      "source": "s = '07:05:45PM'\n\ntimeConversion(s)",
      "metadata": {
        "trusted": true
      },
      "execution_count": 124,
      "outputs": [
        {
          "execution_count": 124,
          "output_type": "execute_result",
          "data": {
            "text/plain": "'19:05:45'"
          },
          "metadata": {}
        }
      ]
    },
    {
      "cell_type": "code",
      "source": "new = new.replace('1', '0', 1)\nnew = new.replace('2', '0', 1)\nnew",
      "metadata": {
        "trusted": true
      },
      "execution_count": 125,
      "outputs": [
        {
          "execution_count": 125,
          "output_type": "execute_result",
          "data": {
            "text/plain": "'00:05:45'"
          },
          "metadata": {}
        }
      ]
    }
  ]
}