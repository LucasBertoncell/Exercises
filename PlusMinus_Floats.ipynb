{
  "metadata": {
    "language_info": {
      "codemirror_mode": {
        "name": "python",
        "version": 3
      },
      "file_extension": ".py",
      "mimetype": "text/x-python",
      "name": "python",
      "nbconvert_exporter": "python",
      "pygments_lexer": "ipython3",
      "version": "3.8"
    },
    "kernelspec": {
      "name": "python",
      "display_name": "Pyolite",
      "language": "python"
    }
  },
  "nbformat_minor": 4,
  "nbformat": 4,
  "cells": [
    {
      "cell_type": "code",
      "source": "#PlusMinus\n\n#!/bin/python3\n\nimport math\nimport os\nimport random\nimport re\nimport sys\n\n#\n# Complete the 'plusMinus' function below.\n#\n# The function accepts INTEGER_ARRAY arr as parameter.\n#\n\ndef plusMinus(arr):\n    pos = 0\n    neg = 0\n    zero = 0\n    \n    for i in range(len(arr)):\n        if arr[i] == 0:\n          zero += 1\n        elif arr[i] > 0:\n          pos += 1\n        elif arr[i] < 0:\n          neg += 1\n          \n    print( '%.6f' % (pos/len(arr)))\n    print( '%.6f' % (neg/len(arr)))\n    print( '%.6f' % (zero/len(arr)))\n    \n    #print(float(f'{ (zero/len(arr)) :.5f}')) ",
      "metadata": {
        "trusted": true
      },
      "execution_count": 49,
      "outputs": []
    },
    {
      "cell_type": "code",
      "source": "arr = [-4, 3, -9, 0, 4, 1]",
      "metadata": {
        "trusted": true
      },
      "execution_count": 50,
      "outputs": []
    },
    {
      "cell_type": "code",
      "source": "plusMinus(arr)",
      "metadata": {
        "trusted": true
      },
      "execution_count": 51,
      "outputs": [
        {
          "name": "stdout",
          "text": "0.500000\n0.333333\n0.166667\n",
          "output_type": "stream"
        }
      ]
    },
    {
      "cell_type": "code",
      "source": "",
      "metadata": {},
      "execution_count": null,
      "outputs": []
    }
  ]
}